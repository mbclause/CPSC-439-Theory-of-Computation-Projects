{
  "nbformat": 4,
  "nbformat_minor": 0,
  "metadata": {
    "colab": {
      "provenance": []
    },
    "kernelspec": {
      "name": "python3",
      "display_name": "Python 3"
    },
    "language_info": {
      "name": "python"
    }
  },
  "cells": [
    {
      "cell_type": "markdown",
      "source": [
        "# Python interpreter from the textbook."
      ],
      "metadata": {
        "id": "zbHzlb86l2sz"
      }
    },
    {
      "cell_type": "code",
      "source": [
        "# We define an abstract base class Lambdaexp for lambda expressions\n",
        "# It has the following subclasses:\n",
        "# Applicableexp: an expression of the form λx.exp\n",
        "# Combinedexp: an expression of the form (exp,exp')\n",
        "# Boundvar: an expression corresponding to a bounded variable\n",
        "# Unboundvar: an expression corresponding to a free variable\n",
        "#\n",
        "# The main operations in a Lambdaexp are:\n",
        "# 1. Replace: given exp,x and exp', obtain the expression exp[x-->exp']\n",
        "# 2. Reduce: continuously evaluate expressions to obtain a simpler form\n",
        "# 3. Apply: given exp,exp', if exp is applicable then apply it to exp', otherwise combine the two\n",
        "# (we also use the * operator for it)\n",
        "\n",
        "\n",
        "\n",
        "import operator ,functools\n",
        "\n",
        "class Lambdaexp:\n",
        "    \"\"\"Lambda expressions base class\"\"\"\n",
        "\n",
        "    counter = 0\n",
        "    call_by_name = True  # if False then do normal form evaluation.\n",
        "\n",
        "    def __init__(self):\n",
        "        self.mykey = {}\n",
        "\n",
        "    def apply(self,other):\n",
        "        \"\"\"Apply expression on an argument\"\"\"\n",
        "        return self*other\n",
        "\n",
        "    def _reduce(self,maxlevel=100):\n",
        "        \"\"\"Reduce expression\"\"\"\n",
        "        return self\n",
        "\n",
        "    def replace(self,old,new):\n",
        "        \"\"\"Replace all occurences of old with new\"\"\"\n",
        "        raise NotImplemented\n",
        "\n",
        "\n",
        "    def bounded(self):\n",
        "        \"\"\"Set of bounded variables inside expression\"\"\"\n",
        "        return set()\n",
        "\n",
        "    def asstring(self, m,pretty=False):\n",
        "        \"\"\"Represent self as a string mapping bounded variables to particular numbers.\"\"\"\n",
        "        raise NotImplemented\n",
        "\n",
        "    #------------------------------------------------------------------------------#\n",
        "    # Ignore this code  in first read: Python specific details\n",
        "\n",
        "    lambdanames = {}\n",
        "    reducedstrings = {}\n",
        "\n",
        "    def reduce(self,maxlevel=100):\n",
        "        if not maxlevel: return self\n",
        "        #m = {b:b for b in self.bounded() }\n",
        "        #t = Lambdaexp.reducedstrings.get((self.asstring(m),maxlevel),None)\n",
        "        #if t: return t\n",
        "        return self._reduce(maxlevel)\n",
        "        #k = t.asstring(m)\n",
        "        #for i in range(maxlevel+1):\n",
        "        #    Lambdaexp.reducedstrings[(k,i)] = t\n",
        "        #return t\n",
        "\n",
        "\n",
        "\n",
        "    def __mul__(self,other):\n",
        "        \"\"\"Use * for combining.\"\"\"\n",
        "        return Combinedexp(self,other) if other else self\n",
        "\n",
        "    def __call__(self,*args):\n",
        "        \"\"\"Use function call for application\"\"\"\n",
        "        return functools.reduce(operator.mul,args,self)\n",
        "\n",
        "    def _key(self,maxlevel=100):\n",
        "        #if maxlevel not in self.mykey:\n",
        "        return self.reduce(maxlevel).__repr__()\n",
        "            # for i in range(maxlevel+1): self.mykey[i] = s\n",
        "        # return self.mykey[maxlevel]\n",
        "\n",
        "    def __eq__(self,other): return self._key()==other._key() if isinstance(other,Lambdaexp) else False\n",
        "    def __hash__(self): return hash(self._key())\n",
        "\n",
        "\n",
        "\n",
        "    def __repr__(self,pretty=False):\n",
        "        B = sorted(self.bounded())\n",
        "        m ={}\n",
        "        for v in B: m[v] = len(m)\n",
        "        return self.asstring(m,pretty)\n",
        "\n",
        "\n",
        "    def _repr_pretty_(self, p, cycle):\n",
        "        if cycle: p.text( self._repr())\n",
        "        p.text( self.reduce().__repr__(True))\n",
        "\n",
        "    def addconst(self,srep):\n",
        "        \"\"\"Return either exp.string or replaced with a keyword if it's in table.\"\"\"\n",
        "        if self in Lambdaexp.lambdanames:  return blue(Lambdaexp.lambdanames[self])\n",
        "        return srep\n",
        "\n",
        "      #------------------------------------------------------------------------------#\n"
      ],
      "metadata": {
        "id": "EjmOXV-2lnYk"
      },
      "execution_count": null,
      "outputs": []
    },
    {
      "cell_type": "code",
      "source": [
        "#-------------------------------------------------#\n",
        "# Utility functions: print color\n",
        "def bold(s,justify=0):\n",
        "    return \"\\x1b[1m\"+s.ljust(justify)+\"\\x1b[21m\"\n",
        "\n",
        "def underline(s,justify=0):\n",
        "    return \"\\x1b[4m\"+s.ljust(justify)+\"\\x1b[24m\"\n",
        "\n",
        "def red(s,justify=0):\n",
        "    return  \"\\x1b[31m\"+s.ljust(justify)+\"\\x1b[0m\"\n",
        "\n",
        "\n",
        "def green(s,justify=0):\n",
        "    return  \"\\x1b[32m\"+s.ljust(justify)+\"\\x1b[0m\"\n",
        "\n",
        "\n",
        "def blue(s,justify=0):\n",
        "    return  \"\\x1b[34m\"+s.ljust(justify)+\"\\x1b[0m\"\n",
        "#--------------------------------------------------#\n",
        "\n",
        "\n",
        "\n",
        "\n",
        "\n",
        "\n",
        "class Applicableexp(Lambdaexp):\n",
        "    \"\"\"Lambda expression that can be applied\"\"\"\n",
        "\n",
        "    def __init__(self,exp,name):\n",
        "        Lambdaexp.counter += 1\n",
        "        self.arg =  Lambdaexp.counter\n",
        "        self.inner = exp.replace(name,Boundvar(self.arg))\n",
        "        super().__init__()\n",
        "\n",
        "    def apply(self,other):\n",
        "        return self.inner.replace(self.arg,other)\n",
        "\n",
        "    def replace(self,old,new):\n",
        "        if self.arg==old: self.arg = new.myid\n",
        "        return Applicableexp(self.inner.replace(old,new),self.arg)\n",
        "\n",
        "    def bounded(self): return self.inner.bounded()|{self.arg}\n",
        "\n",
        "    def _reduce(self,maxlevel=100):\n",
        "        if Lambdaexp.call_by_name: return self\n",
        "        # in call by name there are no reductions inside abstractions\n",
        "        inner = self.inner.reduce(maxlevel-1)\n",
        "        return Applicableexp(inner,self.arg)\n",
        "\n",
        "    def asstring(self, m,pretty=False):\n",
        "        if not pretty: return \"λ\"+Boundvar(self.arg).asstring(m,False)+\".(\"+self.inner.asstring(m)+\")\"\n",
        "        return self.addconst(green(\"λ\")+Boundvar(self.arg).asstring(m,True)+\".(\"+self.inner.asstring(m,True)+\")\")\n",
        "\n",
        "\n",
        "\n",
        "\n",
        "\n",
        "class Boundvar(Lambdaexp):\n",
        "    \"\"\"Bounded variable\"\"\"\n",
        "    def __init__(self,arg):\n",
        "        self.myid = arg\n",
        "        super().__init__()\n",
        "\n",
        "    def replace(self,argnum,exp): return exp if argnum==self.myid else self\n",
        "\n",
        "    def bounded(self): return { self.myid }\n",
        "\n",
        "    def asstring(self, m,pretty=False):\n",
        "        arg = m.get(self.myid,self.myid)\n",
        "        return chr(ord('α')+arg)\n",
        "\n",
        "\n",
        "class Unboundvar(Lambdaexp):\n",
        "    \"\"\"Unbounded (free) variable.\"\"\"\n",
        "    def __init__(self,name):\n",
        "        self.name = name\n",
        "        super().__init__()\n",
        "\n",
        "    def replace(self,name,arg): return arg if name==self.name else self\n",
        "\n",
        "    def asstring(self, m,pretty=False):\n",
        "        return self.addconst(self.name) if pretty else self.name\n",
        "\n",
        "\n",
        "\n",
        "class Combinedexp(Lambdaexp):\n",
        "    \"\"\"Combined expression of two expressions.\"\"\"\n",
        "    def __init__(self,exp1,exp2):\n",
        "        self.exp1 = exp1\n",
        "        self.exp2 = exp2\n",
        "        super().__init__()\n",
        "\n",
        "    def replace(self,arg,exp):\n",
        "        return Combinedexp(self.exp1.replace(arg,exp),self.exp2.replace(arg,exp))\n",
        "\n",
        "    def bounded(self): return self.exp1.bounded()|self.exp2.bounded()\n",
        "\n",
        "\n",
        "    def _reduce(self,maxlevel=100):\n",
        "        if not maxlevel: return self\n",
        "        e1 = self.exp1.reduce(maxlevel-1)\n",
        "        if isinstance(e1,Applicableexp):\n",
        "            return  e1.apply(self.exp2).reduce(maxlevel-1)\n",
        "        return Combinedexp(e1,self.exp2)\n",
        "\n",
        "    def asstring(self, m,pretty=False):\n",
        "        s = f\"({self.exp1.asstring(m,False)} {self.exp2.asstring(m,False)})\"\n",
        "        if not pretty: return s\n",
        "        return f\"({self.exp1.asstring(m,True)} {self.exp2.asstring(m,True)})\"\n",
        "\n",
        "class λ:\n",
        "    \"\"\"Binds a variable name in a lambda expression\"\"\"\n",
        "\n",
        "    def __init__(self,*varlist):\n",
        "        \"\"\"\n",
        "        Get list of unbounded variables (for example a,b,c) and returns an operator that binds an expresion exp to\n",
        "        λa(λb(λc(exp))) and so on.\"\"\"\n",
        "        if not varlist: raise Exception(\"Need to bind at least one variable\")\n",
        "        self.varlist = varlist[::-1]\n",
        "\n",
        "\n",
        "    def bindexp(self,exp):\n",
        "        res = exp\n",
        "        for v in self.varlist:\n",
        "            res = Applicableexp(res,v.name)\n",
        "        return res\n",
        "\n",
        "    #------------------------------------------------------------------------------#\n",
        "    # Ignore this code  in first read: Python specific details\n",
        "\n",
        "\n",
        "    def __call__(self,*args):\n",
        "        exp = functools.reduce(operator.mul,args[1:],args[0])\n",
        "        return self.bindexp(exp)\n",
        "    #------------------------------------------------------------------------------#\n",
        "\n"
      ],
      "metadata": {
        "id": "cIpUIMc0l6se"
      },
      "execution_count": null,
      "outputs": []
    },
    {
      "cell_type": "code",
      "source": [
        "Lambdaexp.lambdanames  = {}\n",
        "import string\n",
        "\n",
        "def initids(g):\n",
        "    \"\"\"Set up parameters a...z and correpsonding Binder objects λa..λz\"\"\"\n",
        "    lcase = list(string.ascii_lowercase)\n",
        "    ids = lcase + [n+\"_\" for n in lcase]\n",
        "    for name in ids:\n",
        "        var =  Unboundvar(name)\n",
        "        g[name] = var\n",
        "        g[\"λ\"+name] = λ(var)\n",
        "        Lambdaexp.lambdanames[var] = name\n",
        "\n",
        "initids(globals())\n",
        "\n"
      ],
      "metadata": {
        "id": "S9lHfHNTmDkm"
      },
      "execution_count": null,
      "outputs": []
    },
    {
      "cell_type": "code",
      "source": [
        "def setconstants(g,consts):\n",
        "    \"\"\"Set up constants for easier typing and printing.\"\"\"\n",
        "\n",
        "    for name in consts:\n",
        "        Lambdaexp.lambdanames[consts[name]] = name\n",
        "        if name[0].isalpha():\n",
        "            g[name]=consts[name]\n",
        "\n",
        "        else: # Numeric constants such as 0 and 1 are replaced by _0 and _1\n",
        "            g[\"_\"+name] = consts[name]\n",
        "\n",
        "setconstants(globals(),{\"1\" : λ(x,y)(x) , \"0\" : λ(x,y)(y)  })\n",
        "\n",
        "def register(g,*args):\n",
        "    for name in args:\n",
        "        Lambdaexp.lambdanames[g[name]] = name"
      ],
      "metadata": {
        "id": "gl-oxOYOmIHX"
      },
      "execution_count": null,
      "outputs": []
    },
    {
      "cell_type": "code",
      "source": [
        "NIL= λf(_1)\n",
        "PAIR =λx(λy(λf(f*x*y)))\n",
        "ISEMPTY= λp(p *(λx(λy(_0))))\n",
        "HEAD = λp(p(_1))\n",
        "TAIL  =λp(p * _0)\n",
        "IF = λ(a,b,c)(a * b * c)\n",
        "\n",
        "register(globals(),\"NIL\", \"PAIR\")"
      ],
      "metadata": {
        "id": "838X1GVAmLI1"
      },
      "execution_count": null,
      "outputs": []
    },
    {
      "cell_type": "code",
      "source": [
        "def makelist(*L):\n",
        "    \"\"\"Construct a λ list of _0's and _1's.\"\"\"\n",
        "    if not L: return NIL\n",
        "    h = _1 if L[0]   else _0\n",
        "    return PAIR(h,makelist(*L[1:]))"
      ],
      "metadata": {
        "id": "xxT6--PAmSdU"
      },
      "execution_count": null,
      "outputs": []
    },
    {
      "cell_type": "code",
      "source": [
        "def RECURSE(f):\n",
        "    def ftemp(me,x): return f(lambda x: me(me,x),x)\n",
        "    return lambda x: ftemp(ftemp,x)\n",
        "\n",
        "RECURSE = λf((λm(f(m*m)))(λm(f(m*m))))\n"
      ],
      "metadata": {
        "id": "tIB8EAX_mYIW"
      },
      "execution_count": null,
      "outputs": []
    },
    {
      "cell_type": "markdown",
      "source": [
        "# Part 2: Solution\n",
        "L = {w: w contains at least three 1s}\n",
        "# DFA\n",
        "\n",
        "![image.png](data:image/png;base64,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)"
      ],
      "metadata": {
        "id": "qn5JHZuUqOxL"
      }
    },
    {
      "cell_type": "code",
      "source": [
        "# A list of the four states in our DFA, with the fourth state being represented by NIL.\n",
        "STATES = makelist(1,1,1)\n",
        "\n",
        "# Description: Implimentation of our DFA as a function in the enhanced lambda calculus. It takes two lists as input, 'l' and 's'.\n",
        "# 'l' is the input to the DFA and 's' is the list of states for our DFA (we will always pass STATES as this second list).\n",
        "# It returns 1 if the input is accepted by the DFA and 0 if not.\n",
        "DFA = λ(m, l, s)(IF(ISEMPTY(l), IF(ISEMPTY(s), _1, _0), IF(HEAD(l), m(TAIL(l), TAIL(s)), m(TAIL(l), s))))\n",
        "\n",
        "# Make the above function recursive\n",
        "F = RECURSE(DFA)\n",
        "\n",
        "# Use makelist to create the input to the DFA.\n",
        "# Input: 101001\n",
        "F(makelist(1,0,1,0,0,1),STATES)\n"
      ],
      "metadata": {
        "id": "LHBsxmYYJ4gr",
        "colab": {
          "base_uri": "https://localhost:8080/"
        },
        "outputId": "90eb27ec-ab9a-40f7-d351-578fe93431d8"
      },
      "execution_count": null,
      "outputs": [
        {
          "output_type": "execute_result",
          "data": {
            "text/plain": [
              "\u001b[34m1\u001b[0m"
            ]
          },
          "metadata": {},
          "execution_count": 9
        }
      ]
    },
    {
      "cell_type": "code",
      "source": [
        "#Input: 111000\n",
        "F(makelist(1,1,1,0,0,0),STATES)"
      ],
      "metadata": {
        "colab": {
          "base_uri": "https://localhost:8080/"
        },
        "id": "1alPYzksrvfk",
        "outputId": "39664e22-5c78-4d2e-f499-a579443d2655"
      },
      "execution_count": null,
      "outputs": [
        {
          "output_type": "execute_result",
          "data": {
            "text/plain": [
              "\u001b[34m1\u001b[0m"
            ]
          },
          "metadata": {},
          "execution_count": 10
        }
      ]
    },
    {
      "cell_type": "code",
      "source": [
        "#Input: 10000\n",
        "F(makelist(1,0,0,0,0),STATES)"
      ],
      "metadata": {
        "colab": {
          "base_uri": "https://localhost:8080/"
        },
        "id": "h-SmUGaAsCuw",
        "outputId": "5ee50ac9-659e-42e0-ae8a-855e85ee510e"
      },
      "execution_count": null,
      "outputs": [
        {
          "output_type": "execute_result",
          "data": {
            "text/plain": [
              "\u001b[34m0\u001b[0m"
            ]
          },
          "metadata": {},
          "execution_count": 11
        }
      ]
    },
    {
      "cell_type": "code",
      "source": [
        "#Input: 10010\n",
        "F(makelist(1,0,0,1,0),STATES)"
      ],
      "metadata": {
        "colab": {
          "base_uri": "https://localhost:8080/"
        },
        "id": "s2jidqC4sMLb",
        "outputId": "673670d2-0a2a-4a1e-f64e-f26b8abe1b16"
      },
      "execution_count": null,
      "outputs": [
        {
          "output_type": "execute_result",
          "data": {
            "text/plain": [
              "\u001b[34m0\u001b[0m"
            ]
          },
          "metadata": {},
          "execution_count": 12
        }
      ]
    },
    {
      "cell_type": "code",
      "source": [
        "#Input: 1\n",
        "F(makelist(1),STATES)"
      ],
      "metadata": {
        "colab": {
          "base_uri": "https://localhost:8080/"
        },
        "id": "qTQWW4ZKsuR8",
        "outputId": "f761886c-98a8-40f4-aaaf-49cbd26a7c24"
      },
      "execution_count": null,
      "outputs": [
        {
          "output_type": "execute_result",
          "data": {
            "text/plain": [
              "\u001b[34m0\u001b[0m"
            ]
          },
          "metadata": {},
          "execution_count": 13
        }
      ]
    },
    {
      "cell_type": "code",
      "source": [
        "#Input: 111\n",
        "F(makelist(1,1,1),STATES)"
      ],
      "metadata": {
        "colab": {
          "base_uri": "https://localhost:8080/"
        },
        "id": "eY6VcICBsy_d",
        "outputId": "1a7bc01c-4e51-423c-9f10-e25be461fbc7"
      },
      "execution_count": null,
      "outputs": [
        {
          "output_type": "execute_result",
          "data": {
            "text/plain": [
              "\u001b[34m1\u001b[0m"
            ]
          },
          "metadata": {},
          "execution_count": 14
        }
      ]
    }
  ]
}